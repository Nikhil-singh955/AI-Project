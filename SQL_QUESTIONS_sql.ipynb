{
  "nbformat": 4,
  "nbformat_minor": 0,
  "metadata": {
    "colab": {
      "provenance": [],
      "authorship_tag": "ABX9TyM7BSk0qd9T25vxn2IL3Uum",
      "include_colab_link": true
    },
    "kernelspec": {
      "name": "python3",
      "display_name": "Python 3"
    },
    "language_info": {
      "name": "python"
    }
  },
  "cells": [
    {
      "cell_type": "markdown",
      "metadata": {
        "id": "view-in-github",
        "colab_type": "text"
      },
      "source": [
        "<a href=\"https://colab.research.google.com/github/Nikhil-singh955/AI-Project/blob/main/SQL_QUESTIONS_sql.ipynb\" target=\"_parent\"><img src=\"https://colab.research.google.com/assets/colab-badge.svg\" alt=\"Open In Colab\"/></a>"
      ]
    },
    {
      "cell_type": "markdown",
      "source": [
        "# **BASIC** SQL CONCEPTS"
      ],
      "metadata": {
        "id": "lV4yvjen-U7J"
      }
    },
    {
      "cell_type": "markdown",
      "source": [
        "#  1. What is SQL, and why is it important in data analytics?\n",
        "\n",
        "ANS 1. SQL (Structured Query Language) is a programming language used to manage and manipulate relational databases.\n",
        "\n",
        "It is essential in data analytics because it allows analysts to query, retrieve, filter, and transform data efficiently, enabling insights and decision-making.\n"
      ],
      "metadata": {
        "id": "4JPT9gMp-ZkR"
      }
    },
    {
      "cell_type": "markdown",
      "source": [
        "# 2 . Explain the difference between INNER JOIN, LEFT JOIN, RIGHT JOIN, and FULL OUTER JOIN\n",
        "\n",
        "\n",
        "\n",
        "\n",
        "Ans 2 .\n",
        "**1. INNER JOIN :-**\n",
        " Returns only the rows where there is a match in both tables.\n",
        "\n",
        "\n",
        "SELECT Customers.CustomerID, Customers.Name, Orders.OrderID, Orders.OrderDate\n",
        "\n",
        "FROM Customers\n",
        "\n",
        "INNER JOIN Orders\n",
        "\n",
        "ON Customers.CustomerID = Orders.CustomerID;\n",
        "\n",
        "\n",
        "Rows without matches in either table are excluded.\n",
        "\n",
        "**2.  LEFT JOIN (LEFT OUTER JOIN) :-**\n",
        "\n",
        "Returns all rows from the left table and the matching rows from the right table.\n",
        "\n",
        "If no match exists, NULLs are returned for the right table's columns.\n",
        "\n",
        "\n",
        "SELECT Customers.CustomerID, Customers.Name, Orders.OrderID, Orders.OrderDate\n",
        "\n",
        "FROM Customers\n",
        "\n",
        "LEFT JOIN Orders\n",
        "\n",
        "ON Customers.CustomerID = Orders.CustomerID;\n",
        "\n",
        "\n",
        "**3. RIGHT JOIN (RIGHT OUTER JOIN) :-**\n",
        "Returns all rows from the right table and the matching rows from the left table.\n",
        "\n",
        "If no match exists, NULLs are returned for the left table's columns.\n",
        "\n",
        "SELECT Customers.CustomerID, Customers.Name, Orders.OrderID, Orders.OrderDate\n",
        "\n",
        "FROM Customers\n",
        "\n",
        "RIGHT JOIN Orders\n",
        "\n",
        "ON Customers.CustomerID = Orders.CustomerID;\n",
        "\n",
        "\n",
        "**4. FULL OUTER JOIN :-**\n",
        "\n",
        "Combines the results of both LEFT JOIN and RIGHT JOIN.\n",
        "\n",
        "Returns all rows from both tables, with NULLs in non-matching columns where no match is found.\n",
        "\n",
        "SELECT Customers.CustomerID, Customers.Name, Orders.OrderID, Orders.OrderDate\n",
        "\n",
        "FROM Customers\n",
        "\n",
        "FULL JOIN Orders\n",
        "\n",
        "ON Customers.CustomerID = Orders.CustomerID;\n",
        "\n"
      ],
      "metadata": {
        "id": "I8FM9dr5H7mN"
      }
    },
    {
      "cell_type": "markdown",
      "source": [
        "# 3. What is the difference between WHERE and HAVING clauses?\n",
        "\n",
        "Ans 3.\n",
        "1. WHERE Clause :-\n",
        "\n",
        "Purpose: Filters rows before any grouping occurs.\n",
        "\n",
        "Scope: Works on individual rows of data.\n",
        "\n",
        "Usage: Used with any column, even those not in aggregate functions.\n",
        "\n",
        "2. HAVING Clause :-\n",
        "\n",
        "Purpose: Filters groups of data after aggregation (used with GROUP BY).\n",
        "\n",
        "Scope: Works on aggregated results (like SUM, AVG, COUNT).\n",
        "\n",
        "Usage: Only applies to grouped data and aggregate functions\n",
        "\n",
        "\n"
      ],
      "metadata": {
        "id": "qis6EEPsJqqx"
      }
    },
    {
      "cell_type": "code",
      "source": [
        "# USE OF WHERE\n",
        "SELECT CustomerID, Name\n",
        "FROM Customers\n",
        "WHERE City = 'New York';\n",
        "\n",
        "#USE OF HAVING\n",
        "SELECT City, COUNT(CustomerID) AS TotalCustomers\n",
        "FROM Customers\n",
        "GROUP BY City\n",
        "HAVING COUNT(CustomerID) > 2;\n",
        "\n",
        "\n"
      ],
      "metadata": {
        "id": "u3i1qFNi4OU7"
      },
      "execution_count": null,
      "outputs": []
    },
    {
      "cell_type": "markdown",
      "source": [
        "# 4. How do you use GROUP BY and HAVING in a query?\n",
        "\n",
        "\n"
      ],
      "metadata": {
        "id": "ViBaja656nFz"
      }
    },
    {
      "cell_type": "markdown",
      "source": [
        "# GROUP BY\n",
        "\n",
        "Purpose: Groups rows with the same values in specified columns into summary rows.\n",
        "\n",
        "Usage: Commonly used with aggregate functions like SUM, AVG, COUNT, MAX, MIN\n",
        "\n",
        "# HAVING\n",
        "\n",
        "Purpose: Filters the grouped data based on conditions applied to aggregate functions.\n",
        "\n",
        "Usage: Always used after GROUP BY"
      ],
      "metadata": {
        "id": "T_ktZRi45hX2"
      }
    },
    {
      "cell_type": "code",
      "source": [
        "SELECT Category, SUM(TotalAmount) AS TotalSales\n",
        "FROM Sales\n",
        "GROUP BY Category\n",
        "HAVING SUM(TotalAmount) > 250;\n"
      ],
      "metadata": {
        "colab": {
          "base_uri": "https://localhost:8080/"
        },
        "id": "N-aUrDQY6GHV",
        "outputId": "050b7bed-b767-46ba-9746-8639881d59b1",
        "collapsed": true
      },
      "execution_count": null,
      "outputs": [
        {
          "output_type": "stream",
          "name": "stdout",
          "text": [
            "Departments with more than 10 employees:\n"
          ]
        }
      ]
    },
    {
      "cell_type": "markdown",
      "source": [
        "# 5. Write a query to find duplicate records in a table."
      ],
      "metadata": {
        "id": "7ctwy6oy7gyL"
      }
    },
    {
      "cell_type": "code",
      "source": [
        "SELECT column_name, COUNT(*)\n",
        "FROM table_name\n",
        "GROUP BY column_name\n",
        "HAVING COUNT(*) > 1;\n"
      ],
      "metadata": {
        "id": "JNyeToxs7k0e"
      },
      "execution_count": null,
      "outputs": []
    },
    {
      "cell_type": "markdown",
      "source": [
        "# 6. How do you retrieve unique values from a table using SQL?"
      ],
      "metadata": {
        "id": "mgtcl1g87tjp"
      }
    },
    {
      "cell_type": "code",
      "source": [
        "SELECT DISTINCT column_name FROM table_name;\n"
      ],
      "metadata": {
        "id": "h_OqjWkP7wXU"
      },
      "execution_count": null,
      "outputs": []
    },
    {
      "cell_type": "markdown",
      "source": [
        "# 7. Explain the use of aggregate functions like COUNT(), SUM(), AVG(), MIN(), and MAX().\n",
        "\n",
        "\n",
        "\n",
        "COUNT(): Counts the number of rows.\n",
        "\n",
        "SUM(): Calculates the total of a numeric column.\n",
        "\n",
        "AVG(): Computes the average value of a numeric column.\n",
        "\n",
        "MIN(): Returns the smallest value in a column.\n",
        "\n",
        "MAX(): Returns the largest value in a column.\n",
        "\n"
      ],
      "metadata": {
        "id": "4-2Z_x6R71pE"
      }
    },
    {
      "cell_type": "code",
      "source": [
        "SELECT COUNT(*) AS TotalRows FROM Employees;\n",
        "\n",
        "SELECT SUM(Salary) AS TotalSalary FROM Employees;\n",
        "\n",
        "SELECT AVG(Salary) AS AverageSalary FROM Employees;\n",
        "\n",
        "SELECT MIN(Salary) AS LowestSalary FROM Employees;\n",
        "\n",
        "SELECT MAX(Salary) AS HighestSalary FROM Employees;\n"
      ],
      "metadata": {
        "id": "nk7Px0DW6rqj"
      },
      "execution_count": null,
      "outputs": []
    },
    {
      "cell_type": "markdown",
      "source": [
        "#7. What is the purpose of a DISTINCT keyword in SQL?\n",
        "\n",
        "The DISTINCT keyword eliminates duplicate rows in the result set.\n",
        "\n",
        "\n"
      ],
      "metadata": {
        "id": "ri7TCGy_8M9D"
      }
    },
    {
      "cell_type": "code",
      "source": [
        "SELECT DISTINCT City\n",
        "FROM Customers;\n"
      ],
      "metadata": {
        "id": "nrV_8cxQ6-S-"
      },
      "execution_count": null,
      "outputs": []
    },
    {
      "cell_type": "markdown",
      "source": [
        "# Intermediate SQL\n"
      ],
      "metadata": {
        "id": "XI6ViNrN8Vey"
      }
    },
    {
      "cell_type": "markdown",
      "source": [
        "# 1. Write a query to find the second-highest salary from an employee table.\n",
        "\n"
      ],
      "metadata": {
        "id": "l2s699N-8bwS"
      }
    },
    {
      "cell_type": "code",
      "source": [
        "SELECT MAX(salary)\n",
        "FROM employees\n",
        "WHERE salary < (SELECT MAX(salary) FROM employees);\n"
      ],
      "metadata": {
        "id": "qan6Iz_j8noO"
      },
      "execution_count": null,
      "outputs": []
    },
    {
      "cell_type": "markdown",
      "source": [
        "# 2. What are subqueries and how do you use them?\n",
        "\n",
        "\n",
        "\n"
      ],
      "metadata": {
        "id": "eOlMM_CZ8uNL"
      }
    },
    {
      "cell_type": "code",
      "source": [
        "Subqueries are queries nested inside another query.\n",
        "They are used to provide intermediate results for the outer query.\n",
        "\n",
        "SELECT name\n",
        "FROM employees\n",
        "WHERE salary = (SELECT MAX(salary) FROM employees);\n"
      ],
      "metadata": {
        "id": "g1RdqfRf9AWA"
      },
      "execution_count": null,
      "outputs": []
    },
    {
      "cell_type": "markdown",
      "source": [
        "# 3. What is a Common Table Expression (CTE)? Give an example of when to use it.\n"
      ],
      "metadata": {
        "id": "PuQ7b8_K9Oe7"
      }
    },
    {
      "cell_type": "code",
      "source": [
        "A CTE is a temporary result set defined within a\n",
        "\n",
        "WITH clause for improved query readability and reusability.\n",
        "\n",
        "WITH EmployeeCTE AS (\n",
        "\n",
        "    SELECT department, AVG(salary) AS avg_salary\n",
        "\n",
        "    FROM employees\n",
        "\n",
        "    GROUP BY department\n",
        ")\n",
        "SELECT * FROM EmployeeCTE WHERE avg_salary > 50000;\n"
      ],
      "metadata": {
        "id": "LZCqpJl99UUl"
      },
      "execution_count": null,
      "outputs": []
    },
    {
      "cell_type": "markdown",
      "source": [
        "# 4. Explain window functions like ROW_NUMBER(), RANK(), and DENSE_RANK().\n",
        "\n",
        "\n",
        "ROW_NUMBER(): Assigns a unique number to each row, starting at 1 for each partition.\n",
        "\n",
        "RANK(): Assigns a rank to rows with ties, leaving gaps.\n",
        "\n",
        "DENSE_RANK(): Similar to RANK but without gaps.\n"
      ],
      "metadata": {
        "id": "XzS4n4J19deW"
      }
    },
    {
      "cell_type": "code",
      "source": [
        "# ROW_NUMBER()\n",
        "SELECT Employee, Region, TotalSales,\n",
        "\n",
        "       ROW_NUMBER() OVER (PARTITION BY Region ORDER BY TotalSales DESC) AS RowNum\n",
        "\n",
        "FROM Sales;\n",
        "\n",
        "# RANK()\n",
        "\n",
        "SELECT Employee, Region, TotalSales,\n",
        "\n",
        "       RANK() OVER (PARTITION BY Region ORDER BY TotalSales DESC) AS Rank\n",
        "\n",
        "FROM Sales;\n",
        "\n",
        "# DENSE_RANK()\n",
        "\n",
        "SELECT Employee, Region, TotalSales,\n",
        "\n",
        "       DENSE_RANK() OVER (PARTITION BY Region ORDER BY TotalSales DESC) AS DenseRank\n",
        "\n",
        "FROM Sales;\n",
        "\n"
      ],
      "metadata": {
        "id": "3SGPUFcn7vJ0"
      },
      "execution_count": null,
      "outputs": []
    },
    {
      "cell_type": "markdown",
      "source": [
        "# 5. How do you combine results of two queries using UNION and UNION ALL?\n",
        "\n",
        "UNION: Combines results and removes duplicates.\n",
        "\n",
        "UNION ALL: Combines results without removing duplicates."
      ],
      "metadata": {
        "id": "1-Wqlqnr9oCB"
      }
    },
    {
      "cell_type": "code",
      "source": [
        "# UNION\n",
        "\n",
        "SELECT EmployeeID, Name, Department\n",
        "\n",
        "FROM Employees\n",
        "\n",
        "UNION\n",
        "\n",
        "SELECT EmployeeID, Name, Department\n",
        "\n",
        "FROM Contractors;\n",
        "\n",
        "\n",
        "# UNION ALL\n",
        "\n",
        "SELECT EmployeeID, Name, Department\n",
        "\n",
        "FROM Employees\n",
        "\n",
        "UNION ALL\n",
        "\n",
        "SELECT EmployeeID, Name, Department\n",
        "\n",
        "FROM Contractors;\n"
      ],
      "metadata": {
        "id": "68H0fDW7B_Y1"
      },
      "execution_count": null,
      "outputs": []
    },
    {
      "cell_type": "markdown",
      "source": [
        "# 6 What are indexes in SQL, and how do they improve query performance?\n",
        "\n",
        "\n",
        "\n",
        "\n",
        "Indexes are data structures that improve the speed of data retrieval by providing a quick lookup mechanism, reducing the need to scan entire tables."
      ],
      "metadata": {
        "id": "mlc9TjAz9v3s"
      }
    },
    {
      "cell_type": "markdown",
      "source": [
        "# 7. Write a query to calculate the total sales for each month using GROUP BY.\n"
      ],
      "metadata": {
        "id": "N5HE9S7j-T1c"
      }
    },
    {
      "cell_type": "code",
      "source": [
        "SELECT MONTH(sale_date) AS sale_month, SUM(sales) AS total_sales\n",
        "\n",
        "FROM sales\n",
        "\n",
        "GROUP BY MONTH(sale_date);\n"
      ],
      "metadata": {
        "id": "pZ8ZuFhu-cxu"
      },
      "execution_count": null,
      "outputs": []
    },
    {
      "cell_type": "markdown",
      "source": [
        "# Advanced SQL\n"
      ],
      "metadata": {
        "id": "LaSKDU5Q-tdx"
      }
    },
    {
      "cell_type": "markdown",
      "source": [
        "#1. How do you optimize a slow-running SQL query?\n",
        "\n",
        "1. Use proper indexing.\n",
        "\n",
        "2. Avoid SELECT *; specify columns.\n",
        "\n",
        "3. Use query execution plans for analysis.\n",
        "\n",
        "4. Optimize joins by reducing unnecessary tables.\n",
        "\n",
        "5. Avoid redundant calculations and subqueries."
      ],
      "metadata": {
        "id": "tuUiiUc9-wob"
      }
    },
    {
      "cell_type": "markdown",
      "source": [
        "# 2. What are views in SQL, and when would you use them?\n",
        "\n",
        "Views are virtual tables based on queries. They are used for simplifying complex queries, improving security by exposing only specific data, and providing a consistent interface for different users."
      ],
      "metadata": {
        "id": "23Kuu8SO_ATF"
      }
    },
    {
      "cell_type": "code",
      "source": [
        "CREATE VIEW employee_summary AS\n",
        "\n",
        "SELECT Department, AVG(Salary) AS AvgSalary\n",
        "\n",
        "FROM Employees\n",
        "\n",
        "GROUP BY Department;\n"
      ],
      "metadata": {
        "id": "HA0A8oWVC8TL"
      },
      "execution_count": null,
      "outputs": []
    },
    {
      "cell_type": "markdown",
      "source": [
        "# 3. What is the difference between a stored procedure and a function in SQL?\n",
        "\n",
        "\n",
        "\n",
        "\n",
        "\n",
        "Stored Procedure: Can perform multiple operations, accept input/output parameters, and does not necessarily return a value.\n",
        "\n",
        "Function: Always returns a value and is used for computations."
      ],
      "metadata": {
        "id": "IeLHVef6_HVy"
      }
    },
    {
      "cell_type": "markdown",
      "source": [
        "# 4. Explain the difference between TRUNCATE, DELETE, and DROP commands.\n",
        "\n",
        "TRUNCATE: Removes all rows from a table without logging individual row deletions.\n",
        "\n",
        "DELETE: Removes specific rows based on a condition.\n",
        "\n",
        "DROP: Deletes the table structure and all its data."
      ],
      "metadata": {
        "id": "r0qQEkuKAIzP"
      }
    },
    {
      "cell_type": "code",
      "source": [
        "# TRUNCATE\n",
        "\n",
        "TRUNCATE TABLE Employees;\n",
        "\n",
        "# DELETE\n",
        "\n",
        "DELETE FROM Employees WHERE Department = 'HR';\n",
        "\n",
        "# DROP\n",
        "\n",
        "DROP TABLE Employees;\n",
        "\n",
        "\n"
      ],
      "metadata": {
        "id": "Fwpv7WkJDQb6"
      },
      "execution_count": null,
      "outputs": []
    },
    {
      "cell_type": "markdown",
      "source": [
        "# 5. What are windowing functions, and how are they used in analytics?\n",
        "\n",
        "\n",
        "Windowing functions operate over a specified range of rows. Examples include aggregations, ranking, and running totals."
      ],
      "metadata": {
        "id": "hsUhC4weAUOX"
      }
    },
    {
      "cell_type": "markdown",
      "source": [
        "# 6. How do you use PARTITION BY and ORDER BY in window functions?\n",
        "\n",
        "\n"
      ],
      "metadata": {
        "id": "9I8ISIJdAbYb"
      }
    },
    {
      "cell_type": "code",
      "source": [
        "SELECT name, department, salary,\n",
        "\n",
        "       RANK() OVER (PARTITION BY department ORDER BY salary DESC) AS rank\n",
        "\n",
        "FROM employees;\n"
      ],
      "metadata": {
        "id": "lJaNkJnAAjaV"
      },
      "execution_count": null,
      "outputs": []
    },
    {
      "cell_type": "markdown",
      "source": [
        "# 7. How do you handle NULL values in SQL, and what functions help with that (e.g., COALESCE, ISNULL)?"
      ],
      "metadata": {
        "id": "2hsGfxr5AmPw"
      }
    },
    {
      "cell_type": "code",
      "source": [
        "COALESCE: Returns the first non-NULL value.\n",
        "\n",
        "SELECT COALESCE(column1, 'Default Value') FROM table;\n",
        "\n",
        "\n",
        "ISNULL: Replaces NULL with a specified value.\n",
        "\n",
        "SELECT ISNULL(column1, 'Default Value') FROM table;"
      ],
      "metadata": {
        "id": "UFLnaPBcAudJ"
      },
      "execution_count": null,
      "outputs": []
    },
    {
      "cell_type": "code",
      "source": [],
      "metadata": {
        "id": "qo5IybHjA6ww"
      },
      "execution_count": null,
      "outputs": []
    }
  ]
}