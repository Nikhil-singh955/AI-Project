{
  "nbformat": 4,
  "nbformat_minor": 0,
  "metadata": {
    "colab": {
      "provenance": [],
      "toc_visible": true,
      "authorship_tag": "ABX9TyOawchiXHQ9p5ePv9Ina6rf",
      "include_colab_link": true
    },
    "kernelspec": {
      "name": "python3",
      "display_name": "Python 3"
    },
    "language_info": {
      "name": "python"
    }
  },
  "cells": [
    {
      "cell_type": "markdown",
      "metadata": {
        "id": "view-in-github",
        "colab_type": "text"
      },
      "source": [
        "<a href=\"https://colab.research.google.com/github/Nikhil-singh955/AI-Project/blob/main/OOPS.ipynb\" target=\"_parent\"><img src=\"https://colab.research.google.com/assets/colab-badge.svg\" alt=\"Open In Colab\"/></a>"
      ]
    },
    {
      "cell_type": "markdown",
      "source": [
        "TO map with real world scenarios , we started using objects in code.\n",
        "This is called object oriented Programming\n"
      ],
      "metadata": {
        "id": "ozjczz1mxaBb"
      }
    },
    {
      "cell_type": "code",
      "source": [
        "# creating class\n",
        "class Student:\n",
        "  name = \"Nikhil\"\n",
        "\n",
        "# creating object\n",
        "s1 = Student()\n",
        "print(s1.name)\n",
        "\n",
        "s2 = Student()\n",
        "print(s2.name)"
      ],
      "metadata": {
        "colab": {
          "base_uri": "https://localhost:8080/"
        },
        "id": "hJ6pIxL7xoBR",
        "outputId": "a50bdd28-da22-46dd-c872-f647686b2359"
      },
      "execution_count": 1,
      "outputs": [
        {
          "output_type": "stream",
          "name": "stdout",
          "text": [
            "Nikhil\n",
            "Nikhil\n"
          ]
        }
      ]
    },
    {
      "cell_type": "code",
      "source": [
        "class car:\n",
        "  color = \"blue\"\n",
        "  brand = \"mercedes\"\n",
        "car1 = car()\n",
        "print(car1.color)\n",
        "print(car1.brand)"
      ],
      "metadata": {
        "colab": {
          "base_uri": "https://localhost:8080/"
        },
        "id": "eJqHxCppy9hC",
        "outputId": "16dd49e9-6c84-4f21-a30a-dccfba718351"
      },
      "execution_count": null,
      "outputs": [
        {
          "output_type": "stream",
          "name": "stdout",
          "text": [
            "blue\n",
            "mercedes\n"
          ]
        }
      ]
    },
    {
      "cell_type": "markdown",
      "source": [
        "Constructor :- All classes have a function called _init_(), which is always executed when the object is being initiated.\n"
      ],
      "metadata": {
        "id": "ZbLAEoqMzN-w"
      }
    },
    {
      "cell_type": "code",
      "source": [
        "# class Student:\n",
        "#   name = \"Nikhil\"\n",
        "#   def __init__(self):\n",
        "#     print(self)\n",
        "#     print(\"Adding new student in database\")\n",
        "# s1 = Student()\n",
        "# print(s1)\n",
        "\n",
        "# self parameter is a reference to the current instance of the class and is used\n",
        "# to access variables that belongs to the class\n",
        "\n",
        "# default constructor\n",
        "class Student:\n",
        "  def __init__(self):\n",
        "    pass\n",
        "# parametrized constructor\n",
        "\n",
        "  def __init__(self, name, marks):\n",
        "    self.name = name\n",
        "    self.marks = marks\n",
        "    print(\"Adding new student in database\")\n",
        "s1 = Student(\"Nikhil\", 90)\n",
        "print(s1.name, s1.marks) # nikhil\n",
        "\n",
        "s2 = Student(\"Deepak\", 80)\n",
        "print(s2.name, s2.marks) # Deepak"
      ],
      "metadata": {
        "colab": {
          "base_uri": "https://localhost:8080/"
        },
        "id": "vW2asiYrzh2l",
        "outputId": "7a7fdf8c-075f-45ab-aac4-c5a10c52abc6"
      },
      "execution_count": null,
      "outputs": [
        {
          "output_type": "stream",
          "name": "stdout",
          "text": [
            "Adding new student in database\n",
            "Nikhil 90\n",
            "Adding new student in database\n",
            "Deepak 80\n"
          ]
        }
      ]
    },
    {
      "cell_type": "code",
      "source": [
        "class Student:\n",
        "  college_name = \"Allenhouse\"\n",
        "  name = \"anonymous\" # class attribute\n",
        "  def __init__(self, name, marks):\n",
        "    self.name = name #obj attr > class attr\n",
        "    self.marks = marks\n",
        "    print(\"Adding new student in database\")\n",
        "s1 = Student(\"Nikhil\", 90)\n",
        "print(s1.name, s1.marks) # nikhil\n",
        "\n",
        "s2 = Student(\"Deepak\", 80)\n",
        "print(s2.name, s2.marks) # Deepak\n"
      ],
      "metadata": {
        "colab": {
          "base_uri": "https://localhost:8080/"
        },
        "id": "iBrtrtHg1r-A",
        "outputId": "6a2ae43b-2191-44ab-bb90-73571e9f2a2a"
      },
      "execution_count": null,
      "outputs": [
        {
          "output_type": "stream",
          "name": "stdout",
          "text": [
            "Adding new student in database\n",
            "Nikhil 90\n",
            "Adding new student in database\n",
            "Deepak 80\n"
          ]
        }
      ]
    },
    {
      "cell_type": "markdown",
      "source": [
        "Methods :-\n",
        "Mehtods are functions that belong to objects."
      ],
      "metadata": {
        "id": "VCp6DvBu3vLU"
      }
    },
    {
      "cell_type": "code",
      "source": [
        "class Student:\n",
        "    def __init__(self, name, marks):\n",
        "        self.name = name\n",
        "        self.marks = marks\n",
        "    def welcome(self):\n",
        "        print(f\"Welcome student, {self.name}!\")\n",
        "    def get_marks(self):\n",
        "        return self.marks\n",
        "# Creating an object and calling the method\n",
        "s1 = Student(\"Nikhil\", 97)\n",
        "s1.welcome()\n",
        "print(s1.get_marks())\n"
      ],
      "metadata": {
        "colab": {
          "base_uri": "https://localhost:8080/"
        },
        "id": "4kPKQz2h4HwN",
        "outputId": "f5a69f76-1b2c-4801-ee58-38f26a228045"
      },
      "execution_count": null,
      "outputs": [
        {
          "output_type": "stream",
          "name": "stdout",
          "text": [
            "Welcome student, Nikhil!\n",
            "97\n"
          ]
        }
      ]
    },
    {
      "cell_type": "code",
      "source": [
        "class Student:\n",
        "  def __init__(self, name, marks):\n",
        "    self.name = name\n",
        "    self.marks = marks\n",
        "  def get_avg(self):\n",
        "      sum = 0\n",
        "      for val in self.marks:\n",
        "        sum += val\n",
        "      print(self.name, \"your avg score is:\", sum/3)\n",
        "s1 = Student(\"Nikhil Singh\", [100, 99, 98])\n",
        "s1.get_avg()\n",
        "\n",
        "s1.name = \"Deepak Singh\"\n",
        "s1.get_avg()"
      ],
      "metadata": {
        "colab": {
          "base_uri": "https://localhost:8080/"
        },
        "id": "wLkkNL2n6m4o",
        "outputId": "8e7a6427-ea10-434a-d99e-61f88eb1bc41"
      },
      "execution_count": null,
      "outputs": [
        {
          "output_type": "stream",
          "name": "stdout",
          "text": [
            "Nikhil Singh your avg score is: 99.0\n",
            "Deepak Singh your avg score is: 99.0\n"
          ]
        }
      ]
    },
    {
      "cell_type": "markdown",
      "source": [
        "STATIC METHOD :- Methods that dont use the self parameter (work at class level)"
      ],
      "metadata": {
        "id": "vtuaoRr774Zi"
      }
    },
    {
      "cell_type": "markdown",
      "source": [
        "\"Decorator allow us to wrap another function in order to extend the behaviour of the wrapped function, without permanently modifying it"
      ],
      "metadata": {
        "id": "fu2XEYsC8Vtd"
      }
    },
    {
      "cell_type": "code",
      "source": [
        "class Student:\n",
        "  @staticmethod #decorator\n",
        "  def colleg():\n",
        "    print(\"ABC College\")"
      ],
      "metadata": {
        "id": "zk3GwXOk8qpf"
      },
      "execution_count": null,
      "outputs": []
    },
    {
      "cell_type": "markdown",
      "source": [
        "FOUR PILLAR OF OOPS\n",
        "\n",
        "1. Abstraction\n",
        "2. Encapsulation\n",
        "3. Inheritance\n",
        "4. Polymorphism\n"
      ],
      "metadata": {
        "id": "n4pX-5Ld8_uJ"
      }
    },
    {
      "cell_type": "markdown",
      "source": [
        "Abstraction :- Hiding the implementation details of a class and only showing the essential features to the user.    \n",
        "\n",
        "\n"
      ],
      "metadata": {
        "id": "NOHfCdC29PM_"
      }
    },
    {
      "cell_type": "code",
      "source": [
        "class car:\n",
        "  def __init__(self):\n",
        "    self.accerelator = False # hidding these information\n",
        "    self.brk = False\n",
        "    self.clutch = False\n",
        "  def start(self):\n",
        "    self.clutch = True  # hidding these information\n",
        "    self.acc = True\n",
        "    print(\"car started\")\n",
        "car1 = car()\n",
        "car1.start()"
      ],
      "metadata": {
        "colab": {
          "base_uri": "https://localhost:8080/"
        },
        "id": "CnScAudM9azU",
        "outputId": "c50a8ea4-c31d-4e75-a1cf-d3cca0c152f9"
      },
      "execution_count": null,
      "outputs": [
        {
          "output_type": "stream",
          "name": "stdout",
          "text": [
            "car started\n"
          ]
        }
      ]
    },
    {
      "cell_type": "markdown",
      "source": [
        "Encapsulation:- Wrapping data and functions into a single unit(object)"
      ],
      "metadata": {
        "id": "YJts4asWA0Uy"
      }
    },
    {
      "cell_type": "code",
      "source": [
        "class Account:\n",
        "    def __init__(self, balance, account_number):\n",
        "        self.balance = balance\n",
        "        self.account_number = account_number\n",
        "\n",
        "    # debit method\n",
        "    def debit(self, amount):\n",
        "        if amount > self.balance:\n",
        "            print(f\"Error: Insufficient balance to debit Rs {amount}.\")\n",
        "        else:\n",
        "            self.balance -= amount\n",
        "            print(f\"Rs {amount} was debited.\")\n",
        "            print(\"Total balance:\", self.get_balanced())\n",
        "\n",
        "    # credit method\n",
        "    def credit(self, amount):\n",
        "        self.balance += amount\n",
        "        print(f\"Rs {amount} was credited.\")\n",
        "        print(\"Total balance:\", self.get_balanced())\n",
        "\n",
        "    # get_balanced method\n",
        "    def get_balanced(self):\n",
        "        return self.balance\n",
        "\n",
        "\n",
        "# Creating an account and performing operations\n",
        "account_number1 = Account(1000, 12345)\n",
        "account_number1.debit(1000)   # Rs 1000 debited\n",
        "account_number1.credit(500)   # Rs 500 credited\n",
        "account_number1.debit(40000)  # Error: Insufficient balance\n"
      ],
      "metadata": {
        "colab": {
          "base_uri": "https://localhost:8080/"
        },
        "id": "VIoiHKDhBEUI",
        "outputId": "d0f2e1b8-c343-4ac6-a034-40e70148ca1d"
      },
      "execution_count": null,
      "outputs": [
        {
          "output_type": "stream",
          "name": "stdout",
          "text": [
            "Rs 1000 was debited.\n",
            "Total balance: 0\n",
            "Rs 500 was credited.\n",
            "Total balance: 500\n",
            "Error: Insufficient balance to debit Rs 40000.\n"
          ]
        }
      ]
    },
    {
      "cell_type": "markdown",
      "source": [
        "del keyword :-\n",
        "\n",
        "used to delete object properties or object itself"
      ],
      "metadata": {
        "id": "Iu4Vj6C2LzXC"
      }
    },
    {
      "cell_type": "code",
      "source": [
        "class student:\n",
        "  def __init__(self, name):\n",
        "    self.name = name\n",
        "s1 = student(\"Nikhil Singh\")\n",
        "# del s1.name\n",
        "print(s1.name)"
      ],
      "metadata": {
        "colab": {
          "base_uri": "https://localhost:8080/"
        },
        "id": "KUKriaTyL74b",
        "outputId": "59da48aa-1ff5-4171-c3ac-ceea4bf4f1fd"
      },
      "execution_count": 3,
      "outputs": [
        {
          "output_type": "stream",
          "name": "stdout",
          "text": [
            "Nikhil Singh\n"
          ]
        }
      ]
    },
    {
      "cell_type": "markdown",
      "source": [
        "Private(like) attribute & methods\n",
        "\n",
        "Private attributes & methods are meant to be used only within the class and are not accessible from outside the class\n"
      ],
      "metadata": {
        "id": "gnVvJxtjMRLk"
      }
    },
    {
      "cell_type": "code",
      "source": [
        "class Account:\n",
        "  def __init__(self, acc_no, acc_pass):\n",
        "    self.acc_no = acc_no\n",
        "    # self.__acc_pass = acc_pass # here use private method by applying __ so can not accesible outside the class\n",
        "acc1 = Account(\"12345\", \"abcde\")\n",
        "print(acc1.acc_no)\n",
        "# print(acc1._acc_pass)"
      ],
      "metadata": {
        "colab": {
          "base_uri": "https://localhost:8080/"
        },
        "id": "jCVnwMpuMjTB",
        "outputId": "fc64a4b6-35ad-4e0a-d8e1-be10b3d2912c"
      },
      "execution_count": 7,
      "outputs": [
        {
          "output_type": "stream",
          "name": "stdout",
          "text": [
            "12345\n"
          ]
        }
      ]
    },
    {
      "cell_type": "code",
      "source": [
        "class person:\n",
        "  __name = \"anonymous\"\n",
        "  def __hello(self):\n",
        "    print(\"hello person!\")\n",
        "\n",
        "  def welcome(self):\n",
        "    self.__hello()\n",
        "\n",
        "p1 = person()\n",
        "print(p1.welcome())"
      ],
      "metadata": {
        "colab": {
          "base_uri": "https://localhost:8080/"
        },
        "id": "WSdRdcVXNpPk",
        "outputId": "58f032f3-233b-458f-8677-482a06b4fbab"
      },
      "execution_count": 10,
      "outputs": [
        {
          "output_type": "stream",
          "name": "stdout",
          "text": [
            "hello person!\n",
            "None\n"
          ]
        }
      ]
    },
    {
      "cell_type": "markdown",
      "source": [
        "Inheritance :- when one class(child/derived) derives the properties & methods of another class(parent/base).\n"
      ],
      "metadata": {
        "id": "FiRaAqYAOc_f"
      }
    },
    {
      "cell_type": "code",
      "source": [
        "class car:\n",
        "  color = \"black\"\n",
        "  @staticmethod\n",
        "  def start():\n",
        "    print(\"car started..\")\n",
        "  @staticmethod\n",
        "  def stop():\n",
        "    print(\"car stopped\")\n",
        "class Toyotacar(car):\n",
        "  def __init__(self, name):\n",
        "    self.name = name\n",
        "car1 = Toyotacar(\"fortuner\")\n",
        "car2 = Toyotacar(\"prius\")\n",
        "print(car1.start())\n",
        "print(car2.color)"
      ],
      "metadata": {
        "colab": {
          "base_uri": "https://localhost:8080/"
        },
        "id": "VvXOlOYYOxFu",
        "outputId": "b1bfdce0-ff5a-4021-dc10-3830cd316ca2"
      },
      "execution_count": 12,
      "outputs": [
        {
          "output_type": "stream",
          "name": "stdout",
          "text": [
            "car started..\n",
            "None\n",
            "black\n"
          ]
        }
      ]
    },
    {
      "cell_type": "code",
      "source": [
        "class father:\n",
        "  blood_group = \"B+\"\n",
        "  @staticmethod\n",
        "  def blood():\n",
        "    print(\"Blood is B+\")\n",
        "class son(father):\n",
        "  def __init__(self, blood_group):\n",
        "    self.blood_group = blood_group\n",
        "blood = son(\"Blood group\")\n",
        "print(blood.blood())"
      ],
      "metadata": {
        "colab": {
          "base_uri": "https://localhost:8080/"
        },
        "id": "e-RhFKXIPqG1",
        "outputId": "18eb74f2-c01d-4b25-e233-7b5099610305"
      },
      "execution_count": 13,
      "outputs": [
        {
          "output_type": "stream",
          "name": "stdout",
          "text": [
            "Blood is B+\n",
            "None\n"
          ]
        }
      ]
    },
    {
      "cell_type": "markdown",
      "source": [
        "Inheritance  Type:\n",
        "\n",
        "1. Single Inheritance\n",
        "\n",
        "2. Multilevel Inheritance\n",
        "\n",
        "3. Multiple Inheritance\n",
        "\n"
      ],
      "metadata": {
        "id": "zd8nCr8uQ4X3"
      }
    },
    {
      "cell_type": "code",
      "source": [
        "\n",
        "# multilevel Inheritance\n",
        "\n",
        "class car:\n",
        "  color = \"black\"\n",
        "  @staticmethod\n",
        "  def start():\n",
        "    print(\"car started..\")\n",
        "  @staticmethod\n",
        "  def stop():\n",
        "    print(\"car stopped\")\n",
        "class Toyotacar(car):\n",
        "  def __init__(self, brand):\n",
        "    self.brand = brand\n",
        "\n",
        "class fortuner(Toyotacar):\n",
        "  def __init__(self, type):\n",
        "    self.type = type\n",
        "\n",
        "car1 = fortuner(\"diesel\")\n",
        "car2 = fortuner(\"petrol\")\n",
        "car1.start()\n",
        "car2.stop()"
      ],
      "metadata": {
        "colab": {
          "base_uri": "https://localhost:8080/"
        },
        "id": "OPlCSoGgRNgp",
        "outputId": "0b8660a3-7f3d-4f17-a4ed-54ab1fc0385f"
      },
      "execution_count": 15,
      "outputs": [
        {
          "output_type": "stream",
          "name": "stdout",
          "text": [
            "car started..\n",
            "car stopped\n"
          ]
        }
      ]
    },
    {
      "cell_type": "code",
      "source": [
        "# Multiple Inheritance\n",
        "class A:\n",
        "  varA = \"welcome to class A\"\n",
        "class B:\n",
        "  varB = \"welcome to class B\"\n",
        "class C(A, B):\n",
        "  varC = \"welcome to class C\"\n",
        "c1 = C()\n",
        "print(c1.varA)\n",
        "print(c1.varB)\n",
        "print(c1.varC)"
      ],
      "metadata": {
        "colab": {
          "base_uri": "https://localhost:8080/"
        },
        "id": "9hJlymAcR8fv",
        "outputId": "3e64a029-a5ef-447f-d0ea-7b1c5f890fbd"
      },
      "execution_count": 16,
      "outputs": [
        {
          "output_type": "stream",
          "name": "stdout",
          "text": [
            "welcome to class A\n",
            "welcome to class B\n",
            "welcome to class C\n"
          ]
        }
      ]
    },
    {
      "cell_type": "markdown",
      "source": [
        "super method:-\n",
        "super method is used to access methods of parent class.\n"
      ],
      "metadata": {
        "id": "cKX7oUwXSiYh"
      }
    },
    {
      "cell_type": "code",
      "source": [
        "class car:\n",
        "  def __init__(self, type):\n",
        "    self.type = type\n",
        "  @staticmethod\n",
        "  def start():\n",
        "    print(\"car started..\")\n",
        "  @staticmethod\n",
        "  def stop():\n",
        "    print(\"car stopped\")\n",
        "class Toyotacar(car):\n",
        "  def __init__(self, name, type):\n",
        "    self.name = name\n",
        "    super().__init__(type) # super method\n",
        "    super().start()\n",
        "car1 = Toyotacar(\"prius\", \"electric\")\n",
        "print(car1.type)\n"
      ],
      "metadata": {
        "colab": {
          "base_uri": "https://localhost:8080/"
        },
        "outputId": "5b02fe6f-1b6e-46d2-c7f9-d7c2323cee0c",
        "id": "_lJRw_xxSwTV"
      },
      "execution_count": 20,
      "outputs": [
        {
          "output_type": "stream",
          "name": "stdout",
          "text": [
            "car started..\n",
            "electric\n"
          ]
        }
      ]
    },
    {
      "cell_type": "markdown",
      "source": [
        "# New Section"
      ],
      "metadata": {
        "id": "ocim0OjOUHqm"
      }
    }
  ]
}