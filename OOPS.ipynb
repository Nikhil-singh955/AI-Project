{
  "nbformat": 4,
  "nbformat_minor": 0,
  "metadata": {
    "colab": {
      "provenance": [],
      "authorship_tag": "ABX9TyOtPzyH0R4hejKhzCXXNV+0",
      "include_colab_link": true
    },
    "kernelspec": {
      "name": "python3",
      "display_name": "Python 3"
    },
    "language_info": {
      "name": "python"
    }
  },
  "cells": [
    {
      "cell_type": "markdown",
      "metadata": {
        "id": "view-in-github",
        "colab_type": "text"
      },
      "source": [
        "<a href=\"https://colab.research.google.com/github/Nikhil-singh955/AI-Project/blob/main/OOPS.ipynb\" target=\"_parent\"><img src=\"https://colab.research.google.com/assets/colab-badge.svg\" alt=\"Open In Colab\"/></a>"
      ]
    },
    {
      "cell_type": "markdown",
      "source": [
        "TO map with real world scenarios , we started using objects in code.\n",
        "This is called object oriented Programming\n"
      ],
      "metadata": {
        "id": "ozjczz1mxaBb"
      }
    },
    {
      "cell_type": "code",
      "source": [
        "# creating class\n",
        "class Student:\n",
        "  name = \"Nikhil\"\n",
        "\n",
        "# creating object\n",
        "s1 = Student()\n",
        "print(s1.name)\n",
        "\n",
        "s2 = Student()\n",
        "print(s2.name)"
      ],
      "metadata": {
        "colab": {
          "base_uri": "https://localhost:8080/"
        },
        "id": "hJ6pIxL7xoBR",
        "outputId": "11003e0b-3f2d-4d13-8e9e-f4d0e0f601e2"
      },
      "execution_count": 2,
      "outputs": [
        {
          "output_type": "stream",
          "name": "stdout",
          "text": [
            "Nikhil\n"
          ]
        }
      ]
    },
    {
      "cell_type": "code",
      "source": [
        "class car:\n",
        "  color = \"blue\"\n",
        "  brand = \"mercedes\"\n",
        "car1 = car()\n",
        "print(car1.color)\n",
        "print(car1.brand)"
      ],
      "metadata": {
        "colab": {
          "base_uri": "https://localhost:8080/"
        },
        "id": "eJqHxCppy9hC",
        "outputId": "16dd49e9-6c84-4f21-a30a-dccfba718351"
      },
      "execution_count": 4,
      "outputs": [
        {
          "output_type": "stream",
          "name": "stdout",
          "text": [
            "blue\n",
            "mercedes\n"
          ]
        }
      ]
    },
    {
      "cell_type": "markdown",
      "source": [
        "Constructor :- All classes have a function called _init_(), which is always executed when the object is being initiated.\n"
      ],
      "metadata": {
        "id": "ZbLAEoqMzN-w"
      }
    },
    {
      "cell_type": "code",
      "source": [
        "# class Student:\n",
        "#   name = \"Nikhil\"\n",
        "#   def __init__(self):\n",
        "#     print(self)\n",
        "#     print(\"Adding new student in database\")\n",
        "# s1 = Student()\n",
        "# print(s1)\n",
        "\n",
        "# self parameter is a reference to the current instance of the class and is used\n",
        "# to access variables that belongs to the class\n",
        "\n",
        "# default constructor\n",
        "class Student:\n",
        "  def __init__(self):\n",
        "    pass\n",
        "# parametrized constructor\n",
        "\n",
        "  def __init__(self, name, marks):\n",
        "    self.name = name\n",
        "    self.marks = marks\n",
        "    print(\"Adding new student in database\")\n",
        "s1 = Student(\"Nikhil\", 90)\n",
        "print(s1.name, s1.marks) # nikhil\n",
        "\n",
        "s2 = Student(\"Deepak\", 80)\n",
        "print(s2.name, s2.marks) # Deepak"
      ],
      "metadata": {
        "colab": {
          "base_uri": "https://localhost:8080/"
        },
        "id": "vW2asiYrzh2l",
        "outputId": "7a7fdf8c-075f-45ab-aac4-c5a10c52abc6"
      },
      "execution_count": 14,
      "outputs": [
        {
          "output_type": "stream",
          "name": "stdout",
          "text": [
            "Adding new student in database\n",
            "Nikhil 90\n",
            "Adding new student in database\n",
            "Deepak 80\n"
          ]
        }
      ]
    },
    {
      "cell_type": "code",
      "source": [
        "class Student:\n",
        "  college_name = \"Allenhouse\"\n",
        "  name = \"anonymous\" # class attribute\n",
        "  def __init__(self, name, marks):\n",
        "    self.name = name #obj attr > class attr\n",
        "    self.marks = marks\n",
        "    print(\"Adding new student in database\")\n",
        "s1 = Student(\"Nikhil\", 90)\n",
        "print(s1.name, s1.marks) # nikhil\n",
        "\n",
        "s2 = Student(\"Deepak\", 80)\n",
        "print(s2.name, s2.marks) # Deepak\n"
      ],
      "metadata": {
        "colab": {
          "base_uri": "https://localhost:8080/"
        },
        "id": "iBrtrtHg1r-A",
        "outputId": "6a2ae43b-2191-44ab-bb90-73571e9f2a2a"
      },
      "execution_count": 16,
      "outputs": [
        {
          "output_type": "stream",
          "name": "stdout",
          "text": [
            "Adding new student in database\n",
            "Nikhil 90\n",
            "Adding new student in database\n",
            "Deepak 80\n"
          ]
        }
      ]
    },
    {
      "cell_type": "markdown",
      "source": [
        "Methods :-\n",
        "Mehtods are functions that belong to objects."
      ],
      "metadata": {
        "id": "VCp6DvBu3vLU"
      }
    },
    {
      "cell_type": "code",
      "source": [
        "class Student:\n",
        "    def __init__(self, name, marks):\n",
        "        self.name = name\n",
        "        self.marks = marks\n",
        "    def welcome(self):\n",
        "        print(f\"Welcome student, {self.name}!\")\n",
        "    def get_marks(self):\n",
        "        return self.marks\n",
        "# Creating an object and calling the method\n",
        "s1 = Student(\"Nikhil\", 97)\n",
        "s1.welcome()\n",
        "print(s1.get_marks())\n"
      ],
      "metadata": {
        "colab": {
          "base_uri": "https://localhost:8080/"
        },
        "id": "4kPKQz2h4HwN",
        "outputId": "f5a69f76-1b2c-4801-ee58-38f26a228045"
      },
      "execution_count": 31,
      "outputs": [
        {
          "output_type": "stream",
          "name": "stdout",
          "text": [
            "Welcome student, Nikhil!\n",
            "97\n"
          ]
        }
      ]
    },
    {
      "cell_type": "code",
      "source": [
        "class Student:\n",
        "  def __init__(self, name, marks):\n",
        "    self.name = name\n",
        "    self.marks = marks\n",
        "  def get_avg(self):\n",
        "      sum = 0\n",
        "      for val in self.marks:\n",
        "        sum += val\n",
        "      print(self.name, \"your avg score is:\", sum/3)\n",
        "s1 = Student(\"Nikhil Singh\", [100, 99, 98])\n",
        "s1.get_avg()\n",
        "\n",
        "s1.name = \"Deepak Singh\"\n",
        "s1.get_avg()"
      ],
      "metadata": {
        "colab": {
          "base_uri": "https://localhost:8080/"
        },
        "id": "wLkkNL2n6m4o",
        "outputId": "8e7a6427-ea10-434a-d99e-61f88eb1bc41"
      },
      "execution_count": 36,
      "outputs": [
        {
          "output_type": "stream",
          "name": "stdout",
          "text": [
            "Nikhil Singh your avg score is: 99.0\n",
            "Deepak Singh your avg score is: 99.0\n"
          ]
        }
      ]
    },
    {
      "cell_type": "markdown",
      "source": [
        "STATIC METHOD :- Methods that dont use the self parameter (work at class level)"
      ],
      "metadata": {
        "id": "vtuaoRr774Zi"
      }
    },
    {
      "cell_type": "markdown",
      "source": [
        "\"Decorator allow us to wrap another function in order to extend the behaviour of the wrapped function, without permanently modifying it"
      ],
      "metadata": {
        "id": "fu2XEYsC8Vtd"
      }
    },
    {
      "cell_type": "code",
      "source": [
        "class Student:\n",
        "  @staticmethod #decorator\n",
        "  def colleg():\n",
        "    print(\"ABC College\")"
      ],
      "metadata": {
        "id": "zk3GwXOk8qpf"
      },
      "execution_count": 37,
      "outputs": []
    },
    {
      "cell_type": "markdown",
      "source": [
        "FOUR PILLAR OF OOPS\n",
        "\n",
        "1. Abstraction\n",
        "2. Encapsulation\n",
        "3. Inheritance\n",
        "4. Polymorphism\n"
      ],
      "metadata": {
        "id": "n4pX-5Ld8_uJ"
      }
    },
    {
      "cell_type": "markdown",
      "source": [
        "Abstraction :- Hiding the implementation details of a class and only showing the essential features to the user.    \n",
        "\n",
        "\n"
      ],
      "metadata": {
        "id": "NOHfCdC29PM_"
      }
    },
    {
      "cell_type": "code",
      "source": [
        "class car:\n",
        "  def __init__(self):\n",
        "    self.accerelator = False # hidding these information\n",
        "    self.brk = False\n",
        "    self.clutch = False\n",
        "  def start(self):\n",
        "    self.clutch = True  # hidding these information\n",
        "    self.acc = True\n",
        "    print(\"car started\")\n",
        "car1 = car()\n",
        "car1.start()"
      ],
      "metadata": {
        "colab": {
          "base_uri": "https://localhost:8080/"
        },
        "id": "CnScAudM9azU",
        "outputId": "c50a8ea4-c31d-4e75-a1cf-d3cca0c152f9"
      },
      "execution_count": 39,
      "outputs": [
        {
          "output_type": "stream",
          "name": "stdout",
          "text": [
            "car started\n"
          ]
        }
      ]
    },
    {
      "cell_type": "markdown",
      "source": [
        "Encapsulation:- Wrapping data and functions into a single unit(object)"
      ],
      "metadata": {
        "id": "YJts4asWA0Uy"
      }
    },
    {
      "cell_type": "code",
      "source": [
        "class Account:\n",
        "    def __init__(self, balance, account_number):\n",
        "        self.balance = balance\n",
        "        self.account_number = account_number\n",
        "\n",
        "    # debit method\n",
        "    def debit(self, amount):\n",
        "        if amount > self.balance:\n",
        "            print(f\"Error: Insufficient balance to debit Rs {amount}.\")\n",
        "        else:\n",
        "            self.balance -= amount\n",
        "            print(f\"Rs {amount} was debited.\")\n",
        "            print(\"Total balance:\", self.get_balanced())\n",
        "\n",
        "    # credit method\n",
        "    def credit(self, amount):\n",
        "        self.balance += amount\n",
        "        print(f\"Rs {amount} was credited.\")\n",
        "        print(\"Total balance:\", self.get_balanced())\n",
        "\n",
        "    # get_balanced method\n",
        "    def get_balanced(self):\n",
        "        return self.balance\n",
        "\n",
        "\n",
        "# Creating an account and performing operations\n",
        "account_number1 = Account(1000, 12345)\n",
        "account_number1.debit(1000)   # Rs 1000 debited\n",
        "account_number1.credit(500)   # Rs 500 credited\n",
        "account_number1.debit(40000)  # Error: Insufficient balance\n"
      ],
      "metadata": {
        "colab": {
          "base_uri": "https://localhost:8080/"
        },
        "id": "VIoiHKDhBEUI",
        "outputId": "d0f2e1b8-c343-4ac6-a034-40e70148ca1d"
      },
      "execution_count": 46,
      "outputs": [
        {
          "output_type": "stream",
          "name": "stdout",
          "text": [
            "Rs 1000 was debited.\n",
            "Total balance: 0\n",
            "Rs 500 was credited.\n",
            "Total balance: 500\n",
            "Error: Insufficient balance to debit Rs 40000.\n"
          ]
        }
      ]
    }
  ]
}